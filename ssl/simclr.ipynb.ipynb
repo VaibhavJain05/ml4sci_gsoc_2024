{
 "cells": [
  {
   "cell_type": "code",
   "execution_count": 1,
   "metadata": {},
   "outputs": [],
   "source": [
    "import torch\n",
    "import torch.nn as nn\n",
    "import pandas as pd\n",
    "from torch.utils.data import (\n",
    "    Dataset,\n",
    "    DataLoader\n",
    ")\n",
    "from sklearn.metrics import roc_auc_score, auc, roc_curve\n",
    "from sklearn.preprocessing import LabelBinarizer\n",
    "from torch.optim.optimizer import Optimizer, required\n",
    "from torchvision.transforms import (\n",
    "    RandomResizedCrop,\n",
    "    ColorJitter,\n",
    "    RandomApply,\n",
    "    Compose,\n",
    "    GaussianBlur,\n",
    "    ToTensor,\n",
    ")\n",
    "import torchvision.models as models\n",
    "import os\n",
    "import time\n",
    "from sklearn.model_selection import train_test_split as tts\n",
    "import numpy as np\n",
    "from tqdm.cli import tqdm\n",
    "import matplotlib.pyplot as plt\n",
    "import warnings\n",
    "warnings.filterwarnings(\"ignore\")\n",
    "\n",
    "DEVICE = torch.device(\"cuda\" if torch.cuda.is_available() else \"cpu\")"
   ]
  },
  {
   "cell_type": "code",
   "execution_count": 2,
   "metadata": {},
   "outputs": [],
   "source": [
    "def get_complete_transform(output_shape, kernel_size, s=1.0):\n",
    "    \"\"\"\n",
    "    The color distortion transform.\n",
    "    \n",
    "    Args:\n",
    "        s: Strength parameter.\n",
    "    \n",
    "    Returns:\n",
    "        A color distortion transform.\n",
    "    \"\"\"\n",
    "    rnd_crop = RandomResizedCrop(output_shape)    \n",
    "    color_jitter = ColorJitter(0.8*s, 0.8*s, 0.8*s, 0.2*s)\n",
    "    rnd_color_jitter = RandomApply([color_jitter], p=0.8)\n",
    "    gaussian_blur = GaussianBlur(kernel_size=kernel_size)\n",
    "    rnd_gaussian_blur = RandomApply([gaussian_blur], p=0.5)\n",
    "    to_tensor = ToTensor()\n",
    "    image_transform = Compose([\n",
    "        to_tensor,\n",
    "        rnd_crop,\n",
    "        rnd_color_jitter,\n",
    "        rnd_gaussian_blur,\n",
    "    ])\n",
    "    return image_transform"
   ]
  },
  {
   "cell_type": "code",
   "execution_count": 3,
   "metadata": {},
   "outputs": [],
   "source": [
    "class ContrastiveLearningViewGenerator(object):\n",
    "    \"\"\"Take two random crops of one image as the query and key.\"\"\"\n",
    "\n",
    "    def __init__(self, base_transform, n_views=2):\n",
    "        self.base_transform = base_transform\n",
    "        self.n_views = n_views\n",
    "\n",
    "    def __call__(self, x):\n",
    "        views = [self.base_transform(x) for i in range(self.n_views)]\n",
    "        return views"
   ]
  },
  {
   "cell_type": "code",
   "execution_count": 4,
   "metadata": {},
   "outputs": [],
   "source": [
    "class Pretrain_Dataset(Dataset):\n",
    "    def __init__(self, dataset, transform=None):\n",
    "        \"\"\"\n",
    "        Args:\n",
    "            list_images (list): List of all the images.\n",
    "            transform (callable, optional): Optional transform to be applied\n",
    "                on a sample.\n",
    "        \"\"\"\n",
    "        self.list_images_path, _ = dataset['path'], dataset['class']\n",
    "        self.transform = transform\n",
    "\n",
    "    def __len__(self):\n",
    "        return len(self.list_images_path)\n",
    "\n",
    "    def __getitem__(self, idx):\n",
    "        if torch.is_tensor(idx):\n",
    "            idx = idx.tolist()\n",
    "        image = np.load(self.list_images_path.iloc[idx])\n",
    "        image = np.nan_to_num(image, nan=0)\n",
    "        image = np.stack((image,) * 3, axis=0)\n",
    "        image = np.reshape(image, (334, 334, 3))\n",
    "        if self.transform:\n",
    "            image = self.transform(image)\n",
    "        return image"
   ]
  },
  {
   "cell_type": "code",
   "execution_count": 5,
   "metadata": {},
   "outputs": [],
   "source": [
    "class Identity(nn.Module):\n",
    "    def __init__(self):\n",
    "        super(Identity, self).__init__()\n",
    "    def forward(self, x):\n",
    "        return x\n",
    "\n",
    "class SimCLR(nn.Module):\n",
    "    def __init__(self, linear_eval=False):\n",
    "        super().__init__()\n",
    "        self.linear_eval = linear_eval\n",
    "        resnet18 = models.resnet18(pretrained=False)\n",
    "        resnet18.fc = Identity()\n",
    "        self.encoder = resnet18\n",
    "        self.projection = nn.Sequential(\n",
    "            nn.Linear(512, 512),\n",
    "            nn.ReLU(),\n",
    "            nn.Linear(512, 128)\n",
    "        )\n",
    "    def forward(self, x):\n",
    "        if not self.linear_eval:\n",
    "            x = torch.cat(x, dim=0)\n",
    "        \n",
    "        encoding = self.encoder(x)\n",
    "        projection = self.projection(encoding) \n",
    "        return projection\n",
    "    \n",
    "class LinearEvaluation(nn.Module):\n",
    "    def __init__(self, model, nu_classes):\n",
    "        super().__init__()\n",
    "        simclr = model\n",
    "        simclr.linear_eval = True\n",
    "        simclr.projection = Identity()\n",
    "        self.simclr = simclr\n",
    "        for param in self.simclr.parameters():\n",
    "            param.requires_grad = False\n",
    "        self.linear = nn.Linear(512, nu_classes)\n",
    "\n",
    "    def forward(self, x):\n",
    "        encoding = self.simclr(x)\n",
    "        pred = self.linear(encoding) \n",
    "        return pred    "
   ]
  },
  {
   "cell_type": "code",
   "execution_count": 6,
   "metadata": {},
   "outputs": [],
   "source": [
    "def cont_loss(features, temp):\n",
    "    \"\"\"\n",
    "    The NTxent Loss.\n",
    "    \n",
    "    Args:\n",
    "        z1: The projection of the first branch\n",
    "        z2: The projeciton of the second branch\n",
    "    \n",
    "    Returns:\n",
    "        the NTxent loss\n",
    "    \"\"\"\n",
    "    similarity_matrix = torch.matmul(features, features.T) # 128, 128\n",
    "    # discard the main diagonal from both: labels and similarities matrix\n",
    "    mask = torch.eye(LABELS.shape[0], dtype=torch.bool).to(DEVICE)\n",
    "    # ~mask is the negative of the mask\n",
    "    # the view is required to bring the matrix back to shape\n",
    "    labels = LABELS[~mask].view(LABELS.shape[0], -1) # 128, 127\n",
    "    similarity_matrix = similarity_matrix[~mask].view(similarity_matrix.shape[0], -1) # 128, 127\n",
    "\n",
    "    # select and combine multiple positives\n",
    "    positives = similarity_matrix[labels.bool()].view(labels.shape[0], -1) # 128, 1\n",
    "\n",
    "    # select only the negatives\n",
    "    negatives = similarity_matrix[~labels.bool()].view(similarity_matrix.shape[0], -1) # 128, 126\n",
    "\n",
    "    logits = torch.cat([positives, negatives], dim=1) # 128, 127\n",
    "    labels = torch.zeros(logits.shape[0], dtype=torch.long).to(DEVICE)\n",
    "\n",
    "    logits = logits / temp\n",
    "    return logits, labels"
   ]
  },
  {
   "cell_type": "code",
   "execution_count": 7,
   "metadata": {},
   "outputs": [],
   "source": [
    "EETA_DEFAULT = 0.001\n",
    "class LARS(Optimizer):\n",
    "    \"\"\"\n",
    "    Layer-wise Adaptive Rate Scaling for large batch training.\n",
    "    Introduced by \"Large Batch Training of Convolutional Networks\" by Y. You,\n",
    "    I. Gitman, and B. Ginsburg. (https://arxiv.org/abs/1708.03888)\n",
    "    \"\"\"\n",
    "\n",
    "    def __init__(\n",
    "        self,\n",
    "        params,\n",
    "        lr=required,\n",
    "        momentum=0.9,\n",
    "        use_nesterov=False,\n",
    "        weight_decay=0.0,\n",
    "        exclude_from_weight_decay=None,\n",
    "        exclude_from_layer_adaptation=None,\n",
    "        classic_momentum=True,\n",
    "        eeta=EETA_DEFAULT,\n",
    "    ):\n",
    "        \"\"\"Constructs a LARSOptimizer.\n",
    "        Args:\n",
    "        lr: A `float` for learning rate.\n",
    "        momentum: A `float` for momentum.\n",
    "        use_nesterov: A 'Boolean' for whether to use nesterov momentum.\n",
    "        weight_decay: A `float` for weight decay.\n",
    "        exclude_from_weight_decay: A list of `string` for variable screening, if\n",
    "            any of the string appears in a variable's name, the variable will be\n",
    "            excluded for computing weight decay. For example, one could specify\n",
    "            the list like ['batch_normalization', 'bias'] to exclude BN and bias\n",
    "            from weight decay.\n",
    "        exclude_from_layer_adaptation: Similar to exclude_from_weight_decay, but\n",
    "            for layer adaptation. If it is None, it will be defaulted the same as\n",
    "            exclude_from_weight_decay.\n",
    "        classic_momentum: A `boolean` for whether to use classic (or popular)\n",
    "            momentum. The learning rate is applied during momeuntum update in\n",
    "            classic momentum, but after momentum for popular momentum.\n",
    "        eeta: A `float` for scaling of learning rate when computing trust ratio.\n",
    "        name: The name for the scope.\n",
    "        \"\"\"\n",
    "\n",
    "        self.epoch = 0\n",
    "        defaults = dict(\n",
    "            lr=lr,\n",
    "            momentum=momentum,\n",
    "            use_nesterov=use_nesterov,\n",
    "            weight_decay=weight_decay,\n",
    "            exclude_from_weight_decay=exclude_from_weight_decay,\n",
    "            exclude_from_layer_adaptation=exclude_from_layer_adaptation,\n",
    "            classic_momentum=classic_momentum,\n",
    "            eeta=eeta,\n",
    "        )\n",
    "\n",
    "        super(LARS, self).__init__(params, defaults)\n",
    "        self.lr = lr\n",
    "        self.momentum = momentum\n",
    "        self.weight_decay = weight_decay\n",
    "        self.use_nesterov = use_nesterov\n",
    "        self.classic_momentum = classic_momentum\n",
    "        self.eeta = eeta\n",
    "        self.exclude_from_weight_decay = exclude_from_weight_decay\n",
    "        # exclude_from_layer_adaptation is set to exclude_from_weight_decay if the\n",
    "        # arg is None.\n",
    "        if exclude_from_layer_adaptation:\n",
    "            self.exclude_from_layer_adaptation = exclude_from_layer_adaptation\n",
    "        else:\n",
    "            self.exclude_from_layer_adaptation = exclude_from_weight_decay\n",
    "\n",
    "    def step(self, epoch=None, closure=None):\n",
    "        loss = None\n",
    "        if closure is not None:\n",
    "            loss = closure()\n",
    "\n",
    "        if epoch is None:\n",
    "            epoch = self.epoch\n",
    "            self.epoch += 1\n",
    "\n",
    "        for group in self.param_groups:\n",
    "            weight_decay = group[\"weight_decay\"]\n",
    "            momentum = group[\"momentum\"]\n",
    "            eeta = group[\"eeta\"]\n",
    "            lr = group[\"lr\"]\n",
    "\n",
    "            for p in group[\"params\"]:\n",
    "                if p.grad is None:\n",
    "                    continue\n",
    "\n",
    "                param = p.data\n",
    "                grad = p.grad.data\n",
    "\n",
    "                param_state = self.state[p]\n",
    "\n",
    "                # TODO: get param names\n",
    "                # if self._use_weight_decay(param_name):\n",
    "                grad += self.weight_decay * param\n",
    "\n",
    "                if self.classic_momentum:\n",
    "                    trust_ratio = 1.0\n",
    "\n",
    "                    # TODO: get param names\n",
    "                    # if self._do_layer_adaptation(param_name):\n",
    "                    w_norm = torch.norm(param)\n",
    "                    g_norm = torch.norm(grad)\n",
    "\n",
    "                    device = g_norm.get_device()\n",
    "                    trust_ratio = torch.where(\n",
    "                        w_norm.gt(0),\n",
    "                        torch.where(\n",
    "                            g_norm.gt(0),\n",
    "                            (self.eeta * w_norm / g_norm),\n",
    "                            torch.Tensor([1.0]).to(device),\n",
    "                        ),\n",
    "                        torch.Tensor([1.0]).to(device),\n",
    "                    ).item()\n",
    "\n",
    "                    scaled_lr = lr * trust_ratio\n",
    "                    if \"momentum_buffer\" not in param_state:\n",
    "                        next_v = param_state[\"momentum_buffer\"] = torch.zeros_like(\n",
    "                            p.data\n",
    "                        )\n",
    "                    else:\n",
    "                        next_v = param_state[\"momentum_buffer\"]\n",
    "\n",
    "                    next_v.mul_(momentum).add_(scaled_lr, grad)\n",
    "                    if self.use_nesterov:\n",
    "                        update = (self.momentum * next_v) + (scaled_lr * grad)\n",
    "                    else:\n",
    "                        update = next_v\n",
    "\n",
    "                    p.data.add_(-update)\n",
    "                else:\n",
    "                    raise NotImplementedError\n",
    "\n",
    "        return loss"
   ]
  },
  {
   "cell_type": "code",
   "execution_count": 8,
   "metadata": {},
   "outputs": [],
   "source": [
    "def pretraining(dataset, config,):\n",
    "    train_dl = DataLoader(dataset,\n",
    "                    batch_size=config.BATCH_SIZE,\n",
    "                    shuffle=True)\n",
    "    \n",
    "    simclr_model = SimCLR().to(DEVICE)\n",
    "    criterion = nn.CrossEntropyLoss().to(DEVICE)\n",
    "    optim = LARS(\n",
    "            [params for params in simclr_model.parameters() if params.requires_grad],\n",
    "            lr=0.01,\n",
    "            weight_decay=1e-6,\n",
    "            exclude_from_weight_decay=[\"batch_normalization\", \"bias\"],\n",
    "            )\n",
    "    scheduler = torch.optim.lr_scheduler.CosineAnnealingLR(optim, 10, eta_min=0, last_epoch=-1, verbose='deprecated')\n",
    "    EPOCHS = config.EPOCHS\n",
    "    best_model = simclr_model\n",
    "    best_loss = np.inf\n",
    "    for epoch in range(EPOCHS):\n",
    "        t0 = time.time()\n",
    "        running_loss = 0.0\n",
    "        for views in tqdm(train_dl, total = len(train_dl)):\n",
    "            projections = simclr_model([view.to(DEVICE) for view in views])\n",
    "            logits, labels = cont_loss(projections, temp=2)\n",
    "            loss = criterion(logits, labels)\n",
    "            loss.backward()\n",
    "            optim.step()\n",
    "            # print statistics\n",
    "            running_loss += loss.item()\n",
    "        scheduler.step()\n",
    "        if best_loss > running_loss:\n",
    "            best_loss = running_loss\n",
    "            best_model = simclr_model\n",
    "            print(\"best model saved\")\n",
    "        print(f'EPOCH: {epoch+1} LOSS: {(running_loss):.4f} ')\n",
    "        print(f'Time taken: {((time.time()-t0)/60):.3f} mins')\n",
    "    return best_model"
   ]
  },
  {
   "cell_type": "code",
   "execution_count": 9,
   "metadata": {},
   "outputs": [],
   "source": [
    "data = os.listdir(\"/home/jainvaibhav/Vaibhav_Jain/gsoc/real_hst\")\n",
    "non_lenses = [file for file in data if file.startswith('nl')]\n",
    "strong_lenses = [file for file in data if file not in non_lenses]\n",
    "\n",
    "output_shape = [224,224]\n",
    "kernel_size = [21,21] # 10% of the output_shape\n",
    "\n",
    "df_non = pd.DataFrame(columns=['path', 'class'])\n",
    "df_non['path'] = '/home/jainvaibhav/Vaibhav_Jain/gsoc/real_hst/' + pd.Series(non_lenses)\n",
    "df_non['class'] = 0\n",
    "\n",
    "df_st = pd.DataFrame(columns=['path', 'class'])\n",
    "df_st['path'] = '/home/jainvaibhav/Vaibhav_Jain/gsoc/real_hst/' + pd.Series(strong_lenses)\n",
    "df_st['class'] = 1\n",
    "\n",
    "combined_df = pd.concat([df_non, df_st], ignore_index=True)\n",
    "train_df, temp_df = tts(combined_df, test_size = 0.4, random_state = 42, shuffle = True)\n",
    "val_df, test_df = tts(temp_df, test_size = 0.25, random_state = 42, shuffle = True)\n",
    "#train: 60, val:30, test:10"
   ]
  },
  {
   "cell_type": "code",
   "execution_count": 10,
   "metadata": {},
   "outputs": [],
   "source": [
    "class pretrain_config:\n",
    "    BATCH_SIZE = train_df.shape[0]\n",
    "    EPOCHS = 20"
   ]
  },
  {
   "cell_type": "code",
   "execution_count": 11,
   "metadata": {},
   "outputs": [
    {
     "data": {
      "image/png": "[encoded data removed]",
      "text/plain": [
       "<Figure size 2000x500 with 2 Axes>"
      ]
     },
     "metadata": {},
     "output_type": "display_data"
    }
   ],
   "source": [
    "img_non = np.load(df_non['path'][0])\n",
    "img_strong = np.load(df_st['path'][0])\n",
    "\n",
    "fig = plt.figure(figsize=(20, 5))\n",
    "\n",
    "plt.subplot(1, 3, 1)\n",
    "plt.imshow(img_non)  # Assuming grayscale image, adjust cmap as needed\n",
    "plt.title('non class')\n",
    "plt.axis('off')  # Turn off axis\n",
    "\n",
    "plt.subplot(1, 3, 2)\n",
    "plt.imshow(img_strong)  # Assuming grayscale image, adjust cmap as needed\n",
    "plt.title('strong class')\n",
    "plt.axis('off')  # Turn off axis\n",
    "\n",
    "plt.show()"
   ]
  },
  {
   "cell_type": "code",
   "execution_count": null,
   "metadata": {},
   "outputs": [],
   "source": [
    "LABELS = torch.cat([torch.arange(pretrain_config.BATCH_SIZE) for i in range(2)], dim=0)\n",
    "LABELS = (LABELS.unsqueeze(0) == LABELS.unsqueeze(1)).float() # Creates a one-hot with broadcasting\n",
    "LABELS = LABELS.to(DEVICE)\n",
    "\n",
    "base_transforms = get_complete_transform(output_shape=output_shape, kernel_size=kernel_size, s=1.0)\n",
    "custom_transform = ContrastiveLearningViewGenerator(base_transform=base_transforms)\n",
    "\n",
    "train_ds = Pretrain_Dataset(dataset = train_df, transform=custom_transform)\n",
    "model = pretraining(train_ds,config=pretrain_config)\n",
    "torch.save(model.state_dict(),'model_pretraining_weights.pth')"
   ]
  },
  {
   "cell_type": "code",
   "execution_count": null,
   "metadata": {},
   "outputs": [],
   "source": [
    "class train_config:\n",
    "    BATCH_SIZE = 16\n",
    "    EPOCHS = 20\n",
    "    criterion = nn.CrossEntropyLoss().to(DEVICE)\n",
    "    \n",
    "def multiclass_roc_auc_score(y_test, y_pred, average=\"macro\"):\n",
    "    lb = LabelBinarizer()\n",
    "    lb.fit(y_test)\n",
    "    y_test = lb.transform(y_test)\n",
    "    y_pred = lb.transform(y_pred)\n",
    "    return roc_auc_score(y_test, y_pred, average=average)\n",
    "\n",
    "def plot_roc_curve(y_test, y_pred):\n",
    "    fpr, tpr, _ = roc_curve(y_test, y_pred)\n",
    "    roc_auc = auc(fpr, tpr)\n",
    "\n",
    "    # Plot ROC curve\n",
    "    plt.figure(figsize=(10, 6))\n",
    "    plt.plot(fpr, tpr, label=f'ROC Curve (AUC = {roc_auc:0.2f})')\n",
    "    plt.plot([0, 1], [0, 1], 'k--', lw=2)\n",
    "    plt.xlim([0.0, 1.0])\n",
    "    plt.ylim([0.0, 1.05])\n",
    "    plt.xlabel('False Positive Rate')\n",
    "    plt.ylabel('True Positive Rate')\n",
    "    plt.title('ROC Curve')\n",
    "    plt.legend(loc=\"lower right\")\n",
    "    plt.show()  \n",
    "    \n",
    "class Train_Dataset(Dataset):\n",
    "    def __init__(self, dataset, transform=None):\n",
    "        \"\"\"\n",
    "        Args:\n",
    "            list_images (list): List of all the images.\n",
    "            transform (callable, optional): Optional transform to be applied\n",
    "                on a sample.\n",
    "        \"\"\"\n",
    "        self.list_images, self.list_labels = dataset['path'], dataset['class']\n",
    "        self.transform = transform\n",
    "\n",
    "    def __len__(self):\n",
    "        return len(self.list_images)\n",
    "\n",
    "    def __getitem__(self, idx):\n",
    "        if torch.is_tensor(idx):\n",
    "            idx = idx.tolist()\n",
    "        image = np.load(self.list_images.iloc[idx])\n",
    "        label = self.list_labels.iloc[idx]\n",
    "        image = np.nan_to_num(image, nan=0)\n",
    "        image = np.stack((image,) * 3, axis=0)\n",
    "        if self.transform:\n",
    "            image = self.transform(image)\n",
    "        return image, label\n",
    "    \n",
    "\n",
    "    \n",
    "def training(dataset, val_dataset, train_config):\n",
    "    train_dl = DataLoader(dataset,\n",
    "                    batch_size=train_config.BATCH_SIZE,\n",
    "                    shuffle=False,\n",
    "                    num_workers=os.cpu_count(), \n",
    "                    drop_last=True,\n",
    "                    pin_memory=True,)\n",
    "    \n",
    "    val_dl = DataLoader(val_dataset,\n",
    "                    batch_size = 1,\n",
    "                    shuffle=False,\n",
    "                    num_workers=os.cpu_count(), \n",
    "                    drop_last=True,\n",
    "                    pin_memory=True,)\n",
    "    \n",
    "    EPOCHS = train_config.EPOCHS\n",
    "    model = SimCLR().to(DEVICE)\n",
    "    model.load_state_dict(torch.load(\"/home/jainvaibhav/Vaibhav_Jain/gsoc/model_pretraining_weights.pth\"))  \n",
    "    nu_classes = 2\n",
    "    best_metric = 0\n",
    "    eval_model = LinearEvaluation(model, nu_classes).to(DEVICE)\n",
    "    best_model = eval_model\n",
    "    optimizer = torch.optim.AdamW(eval_model.parameters(), lr = 1e-4)\n",
    "    softmax = nn.Softmax(dim=1)  # Softmax activation\n",
    "    for epoch in range(EPOCHS):\n",
    "        t0 = time.time()\n",
    "        running_loss = 0.0\n",
    "        true_labels = []\n",
    "        predicted = []        \n",
    "        eval_model.train()\n",
    "        for element in tqdm(train_dl, total = len(train_dl),desc=\"Training\"):\n",
    "            image, label = element\n",
    "            image = image.to(DEVICE)\n",
    "            label = label.to(DEVICE)\n",
    "            pred = eval_model(image)\n",
    "            loss = train_config.criterion(pred, label)\n",
    "            optimizer.zero_grad()\n",
    "            loss.backward()\n",
    "            optimizer.step()\n",
    "            \n",
    "            running_loss += loss.item()\n",
    "                    \n",
    "        eval_model.eval()\n",
    "        for element in tqdm(val_dl, total = len(val_dl),desc=\"Validating\"):\n",
    "            image, label = element\n",
    "            image = image.to(DEVICE)\n",
    "            label = label.to(DEVICE)\n",
    "            pred = eval_model(image)\n",
    "            pred = softmax(pred)\n",
    "            _ , predicted_class_index = torch.max(pred, dim=1)\n",
    "            true_labels.extend(label.cpu().numpy())\n",
    "            predicted.extend(predicted_class_index.cpu().detach().numpy())\n",
    "            \n",
    "        roc_auc  = multiclass_roc_auc_score(true_labels, predicted)             \n",
    "        print(f'EPOCH: {epoch+1} TRAIN LOSS: {(running_loss/100):.4f} VAL ROC AUC: {(roc_auc):.4f} ')\n",
    "        if best_metric < roc_auc:\n",
    "            best_metric = roc_auc\n",
    "            best_model = eval_model\n",
    "            print('best model saved')\n",
    "        print(f'Time taken: {((time.time()-t0)/60):.3f} mins')\n",
    "    return best_model, best_metric\n",
    " \n",
    "def Testing(model, test_dataset):\n",
    "    true_labels = []\n",
    "    predicted = []          \n",
    "    model.eval()\n",
    "    softmax = nn.Softmax(dim=1)  # Softmax activation\n",
    "    val_dl = DataLoader(test_dataset,\n",
    "                        batch_size = train_config.BATCH_SIZE,\n",
    "                        shuffle=False,\n",
    "                        num_workers=os.cpu_count(), \n",
    "                        drop_last=True,\n",
    "                        pin_memory=True,)\n",
    "\n",
    "    for element in tqdm(val_dl, total = len(val_dl),desc=\"Testing\"):\n",
    "        image, label = element\n",
    "        image = image.to(DEVICE)\n",
    "        label = label.to(DEVICE)\n",
    "        pred = model(image)\n",
    "        pred = softmax(pred)\n",
    "        _ , predicted_class_index = torch.max(pred, dim=1)\n",
    "        true_labels.extend(label.cpu().numpy())\n",
    "        predicted.extend(predicted_class_index.cpu().detach().numpy())\n",
    "    plot_roc_curve(true_labels, predicted)"
   ]
  },
  {
   "cell_type": "code",
   "execution_count": null,
   "metadata": {},
   "outputs": [],
   "source": [
    "val_ds = Train_Dataset(val_df)\n",
    "test_ds = Train_Dataset(test_df)"
   ]
  },
  {
   "cell_type": "code",
   "execution_count": null,
   "metadata": {},
   "outputs": [
    {
     "name": "stderr",
     "output_type": "stream",
     "text": [
      "Training:   0%|          | 0/4 [00:00<?, ?it/s]"
     ]
    },
    {
     "name": "stderr",
     "output_type": "stream",
     "text": [
      "Training: 100%|██████████| 4/4 [00:01<00:00,  2.42it/s]\n",
      "Validating: 100%|██████████| 22/22 [00:01<00:00, 16.30it/s]\n"
     ]
    },
    {
     "name": "stdout",
     "output_type": "stream",
     "text": [
      "EPOCH: 1 TRAIN LOSS: 0.0285 VAL ROC AUC: 0.5000 \n",
      "best model saved\n",
      "Time taken: 0.050 mins\n"
     ]
    },
    {
     "name": "stderr",
     "output_type": "stream",
     "text": [
      "Training: 100%|██████████| 4/4 [00:01<00:00,  2.91it/s]\n",
      "Validating: 100%|██████████| 22/22 [00:01<00:00, 15.81it/s]\n"
     ]
    },
    {
     "name": "stdout",
     "output_type": "stream",
     "text": [
      "EPOCH: 2 TRAIN LOSS: 0.0280 VAL ROC AUC: 0.4732 \n",
      "Time taken: 0.046 mins\n"
     ]
    },
    {
     "name": "stderr",
     "output_type": "stream",
     "text": [
      "Training: 100%|██████████| 4/4 [00:01<00:00,  2.76it/s]\n",
      "Validating: 100%|██████████| 22/22 [00:01<00:00, 16.78it/s]\n"
     ]
    },
    {
     "name": "stdout",
     "output_type": "stream",
     "text": [
      "EPOCH: 3 TRAIN LOSS: 0.0276 VAL ROC AUC: 0.5536 \n",
      "best model saved\n",
      "Time taken: 0.046 mins\n"
     ]
    },
    {
     "name": "stderr",
     "output_type": "stream",
     "text": [
      "Training: 100%|██████████| 4/4 [00:01<00:00,  2.60it/s]\n",
      "Validating: 100%|██████████| 22/22 [00:01<00:00, 15.54it/s]\n"
     ]
    },
    {
     "name": "stdout",
     "output_type": "stream",
     "text": [
      "EPOCH: 4 TRAIN LOSS: 0.0272 VAL ROC AUC: 0.5268 \n",
      "Time taken: 0.049 mins\n"
     ]
    },
    {
     "name": "stderr",
     "output_type": "stream",
     "text": [
      "Training: 100%|██████████| 4/4 [00:01<00:00,  2.91it/s]\n",
      "Validating: 100%|██████████| 22/22 [00:01<00:00, 16.22it/s]\n"
     ]
    },
    {
     "name": "stdout",
     "output_type": "stream",
     "text": [
      "EPOCH: 5 TRAIN LOSS: 0.0269 VAL ROC AUC: 0.4643 \n",
      "Time taken: 0.046 mins\n"
     ]
    },
    {
     "name": "stderr",
     "output_type": "stream",
     "text": [
      "Training: 100%|██████████| 4/4 [00:01<00:00,  3.02it/s]\n",
      "Validating: 100%|██████████| 22/22 [00:01<00:00, 14.78it/s]\n"
     ]
    },
    {
     "name": "stdout",
     "output_type": "stream",
     "text": [
      "EPOCH: 6 TRAIN LOSS: 0.0265 VAL ROC AUC: 0.4643 \n",
      "Time taken: 0.047 mins\n"
     ]
    },
    {
     "name": "stderr",
     "output_type": "stream",
     "text": [
      "Training: 100%|██████████| 4/4 [00:01<00:00,  2.61it/s]\n",
      "Validating: 100%|██████████| 22/22 [00:01<00:00, 14.81it/s]\n"
     ]
    },
    {
     "name": "stdout",
     "output_type": "stream",
     "text": [
      "EPOCH: 7 TRAIN LOSS: 0.0262 VAL ROC AUC: 0.4643 \n",
      "Time taken: 0.050 mins\n"
     ]
    },
    {
     "name": "stderr",
     "output_type": "stream",
     "text": [
      "Training: 100%|██████████| 4/4 [00:01<00:00,  2.85it/s]\n",
      "Validating: 100%|██████████| 22/22 [00:01<00:00, 16.93it/s]\n"
     ]
    },
    {
     "name": "stdout",
     "output_type": "stream",
     "text": [
      "EPOCH: 8 TRAIN LOSS: 0.0259 VAL ROC AUC: 0.4643 \n",
      "Time taken: 0.045 mins\n"
     ]
    },
    {
     "name": "stderr",
     "output_type": "stream",
     "text": [
      "Training: 100%|██████████| 4/4 [00:01<00:00,  2.62it/s]\n",
      "Validating: 100%|██████████| 22/22 [00:01<00:00, 15.19it/s]\n"
     ]
    },
    {
     "name": "stdout",
     "output_type": "stream",
     "text": [
      "EPOCH: 9 TRAIN LOSS: 0.0256 VAL ROC AUC: 0.5268 \n",
      "Time taken: 0.050 mins\n"
     ]
    },
    {
     "name": "stderr",
     "output_type": "stream",
     "text": [
      "Training: 100%|██████████| 4/4 [00:01<00:00,  3.00it/s]\n",
      "Validating: 100%|██████████| 22/22 [00:01<00:00, 14.42it/s]\n"
     ]
    },
    {
     "name": "stdout",
     "output_type": "stream",
     "text": [
      "EPOCH: 10 TRAIN LOSS: 0.0253 VAL ROC AUC: 0.5268 \n",
      "Time taken: 0.048 mins\n"
     ]
    },
    {
     "name": "stderr",
     "output_type": "stream",
     "text": [
      "Training: 100%|██████████| 4/4 [00:01<00:00,  2.78it/s]\n",
      "Validating: 100%|██████████| 22/22 [00:01<00:00, 15.28it/s]\n"
     ]
    },
    {
     "name": "stdout",
     "output_type": "stream",
     "text": [
      "EPOCH: 11 TRAIN LOSS: 0.0250 VAL ROC AUC: 0.5268 \n",
      "Time taken: 0.048 mins\n"
     ]
    },
    {
     "name": "stderr",
     "output_type": "stream",
     "text": [
      "Training: 100%|██████████| 4/4 [00:01<00:00,  2.70it/s]\n",
      "Validating: 100%|██████████| 22/22 [00:01<00:00, 16.27it/s]\n"
     ]
    },
    {
     "name": "stdout",
     "output_type": "stream",
     "text": [
      "EPOCH: 12 TRAIN LOSS: 0.0248 VAL ROC AUC: 0.5268 \n",
      "Time taken: 0.047 mins\n"
     ]
    },
    {
     "name": "stderr",
     "output_type": "stream",
     "text": [
      "Training: 100%|██████████| 4/4 [00:01<00:00,  2.91it/s]\n",
      "Validating: 100%|██████████| 22/22 [00:01<00:00, 14.86it/s]\n"
     ]
    },
    {
     "name": "stdout",
     "output_type": "stream",
     "text": [
      "EPOCH: 13 TRAIN LOSS: 0.0245 VAL ROC AUC: 0.5268 \n",
      "Time taken: 0.048 mins\n"
     ]
    },
    {
     "name": "stderr",
     "output_type": "stream",
     "text": [
      "Training: 100%|██████████| 4/4 [00:01<00:00,  2.59it/s]\n",
      "Validating: 100%|██████████| 22/22 [00:01<00:00, 15.74it/s]\n"
     ]
    },
    {
     "name": "stdout",
     "output_type": "stream",
     "text": [
      "EPOCH: 14 TRAIN LOSS: 0.0243 VAL ROC AUC: 0.5268 \n",
      "Time taken: 0.049 mins\n"
     ]
    },
    {
     "name": "stderr",
     "output_type": "stream",
     "text": [
      "Training: 100%|██████████| 4/4 [00:01<00:00,  2.63it/s]\n",
      "Validating: 100%|██████████| 22/22 [00:01<00:00, 14.95it/s]\n"
     ]
    },
    {
     "name": "stdout",
     "output_type": "stream",
     "text": [
      "EPOCH: 15 TRAIN LOSS: 0.0240 VAL ROC AUC: 0.5268 \n",
      "Time taken: 0.050 mins\n"
     ]
    },
    {
     "name": "stderr",
     "output_type": "stream",
     "text": [
      "Training: 100%|██████████| 4/4 [00:01<00:00,  2.58it/s]\n",
      "Validating: 100%|██████████| 22/22 [00:01<00:00, 14.99it/s]\n"
     ]
    },
    {
     "name": "stdout",
     "output_type": "stream",
     "text": [
      "EPOCH: 16 TRAIN LOSS: 0.0238 VAL ROC AUC: 0.5268 \n",
      "Time taken: 0.050 mins\n"
     ]
    },
    {
     "name": "stderr",
     "output_type": "stream",
     "text": [
      "Training: 100%|██████████| 4/4 [00:01<00:00,  2.83it/s]\n",
      "Validating: 100%|██████████| 22/22 [00:01<00:00, 17.01it/s]\n"
     ]
    },
    {
     "name": "stdout",
     "output_type": "stream",
     "text": [
      "EPOCH: 17 TRAIN LOSS: 0.0235 VAL ROC AUC: 0.5268 \n",
      "Time taken: 0.045 mins\n"
     ]
    },
    {
     "name": "stderr",
     "output_type": "stream",
     "text": [
      "Training: 100%|██████████| 4/4 [00:01<00:00,  2.70it/s]\n",
      "Validating: 100%|██████████| 22/22 [00:01<00:00, 15.26it/s]\n"
     ]
    },
    {
     "name": "stdout",
     "output_type": "stream",
     "text": [
      "EPOCH: 18 TRAIN LOSS: 0.0233 VAL ROC AUC: 0.5268 \n",
      "Time taken: 0.049 mins\n"
     ]
    },
    {
     "name": "stderr",
     "output_type": "stream",
     "text": [
      "Training: 100%|██████████| 4/4 [00:01<00:00,  2.87it/s]\n",
      "Validating: 100%|██████████| 22/22 [00:01<00:00, 14.91it/s]\n"
     ]
    },
    {
     "name": "stdout",
     "output_type": "stream",
     "text": [
      "EPOCH: 19 TRAIN LOSS: 0.0231 VAL ROC AUC: 0.5268 \n",
      "Time taken: 0.048 mins\n"
     ]
    },
    {
     "name": "stderr",
     "output_type": "stream",
     "text": [
      "Training: 100%|██████████| 4/4 [00:01<00:00,  2.67it/s]\n",
      "Validating: 100%|██████████| 22/22 [00:01<00:00, 14.44it/s]"
     ]
    },
    {
     "name": "stdout",
     "output_type": "stream",
     "text": [
      "EPOCH: 20 TRAIN LOSS: 0.0229 VAL ROC AUC: 0.5268 \n",
      "Time taken: 0.051 mins\n"
     ]
    },
    {
     "name": "stderr",
     "output_type": "stream",
     "text": [
      "\n"
     ]
    }
   ],
   "source": [
    "best_model, metric = training(val_ds, test_ds, train_config)"
   ]
  },
  {
   "cell_type": "code",
   "execution_count": null,
   "metadata": {},
   "outputs": [
    {
     "name": "stderr",
     "output_type": "stream",
     "text": [
      "Testing: 100%|██████████| 1/1 [00:01<00:00,  1.30s/it]\n"
     ]
    },
    {
     "data": {
      "image/png": "[encoded data removed]",
      "text/plain": [
       "<Figure size 1000x600 with 1 Axes>"
      ]
     },
     "metadata": {},
     "output_type": "display_data"
    }
   ],
   "source": [
    "Testing(best_model, test_ds)"
   ]
  },
  {
   "cell_type": "code",
   "execution_count": null,
   "metadata": {},
   "outputs": [],
   "source": [
    "torch.save(best_model, 'model_final_weights.pth')"
   ]
  }
 ],
 "metadata": {
  "kernelspec": {
   "display_name": "Python 3",
   "language": "python",
   "name": "python3"
  },
  "language_info": {
   "codemirror_mode": {
    "name": "ipython",
    "version": 3
   },
   "file_extension": ".py",
   "mimetype": "text/x-python",
   "name": "python",
   "nbconvert_exporter": "python",
   "pygments_lexer": "ipython3",
   "version": "3.10.12"
  }
 },
 "nbformat": 4,
 "nbformat_minor": 2
}
